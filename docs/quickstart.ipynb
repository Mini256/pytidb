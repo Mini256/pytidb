{
 "cells": [
  {
   "cell_type": "markdown",
   "id": "b90e936b724dae40",
   "metadata": {},
   "source": [
    "# TiDB Python SDK\n",
    "\n",
    "A powerful Python SDK for vector storage and retrieval operations with TiDB.\n",
    "\n",
    "- 🔄 Automatic embedding generation\n",
    "- 🔍 Vector similarity search\n",
    "- 🎯 Advanced filtering capabilities\n",
    "- 📦 Bulk operations support"
   ]
  },
  {
   "cell_type": "markdown",
   "id": "d774f9944686ca99",
   "metadata": {},
   "source": [
    "## Installation"
   ]
  },
  {
   "metadata": {
    "ExecuteTime": {
     "end_time": "2025-03-19T08:36:41.387786Z",
     "start_time": "2025-03-19T08:36:40.176116Z"
    }
   },
   "cell_type": "code",
   "source": "%pip install pytidb-experimental==0.0.1.dev1",
   "id": "ffcb4018b6271ee8",
   "outputs": [
    {
     "name": "stdout",
     "output_type": "stream",
     "text": [
      "Requirement already satisfied: pytidb-experimental==0.0.1.dev1 in /Users/liangzhiyuan/Projects/pytidb (0.0.1.dev1)\r\n",
      "Requirement already satisfied: sqlmodel==0.0.22 in /Users/liangzhiyuan/Projects/pytidb/.venv/lib/python3.12/site-packages (from pytidb-experimental==0.0.1.dev1) (0.0.22)\r\n",
      "Requirement already satisfied: tidb-vector>=0.0.14 in /Users/liangzhiyuan/Projects/pytidb/.venv/lib/python3.12/site-packages (from pytidb-experimental==0.0.1.dev1) (0.0.14)\r\n",
      "Requirement already satisfied: pymysql>=1.1.1 in /Users/liangzhiyuan/Projects/pytidb/.venv/lib/python3.12/site-packages (from pytidb-experimental==0.0.1.dev1) (1.1.1)\r\n",
      "Requirement already satisfied: SQLAlchemy<2.1.0,>=2.0.14 in /Users/liangzhiyuan/Projects/pytidb/.venv/lib/python3.12/site-packages (from sqlmodel==0.0.22->pytidb-experimental==0.0.1.dev1) (2.0.39)\r\n",
      "Requirement already satisfied: pydantic<3.0.0,>=1.10.13 in /Users/liangzhiyuan/Projects/pytidb/.venv/lib/python3.12/site-packages (from sqlmodel==0.0.22->pytidb-experimental==0.0.1.dev1) (2.10.6)\r\n",
      "Requirement already satisfied: numpy<2,>=1 in /Users/liangzhiyuan/Projects/pytidb/.venv/lib/python3.12/site-packages (from tidb-vector>=0.0.14->pytidb-experimental==0.0.1.dev1) (1.26.4)\r\n",
      "Requirement already satisfied: annotated-types>=0.6.0 in /Users/liangzhiyuan/Projects/pytidb/.venv/lib/python3.12/site-packages (from pydantic<3.0.0,>=1.10.13->sqlmodel==0.0.22->pytidb-experimental==0.0.1.dev1) (0.7.0)\r\n",
      "Requirement already satisfied: pydantic-core==2.27.2 in /Users/liangzhiyuan/Projects/pytidb/.venv/lib/python3.12/site-packages (from pydantic<3.0.0,>=1.10.13->sqlmodel==0.0.22->pytidb-experimental==0.0.1.dev1) (2.27.2)\r\n",
      "Requirement already satisfied: typing-extensions>=4.12.2 in /Users/liangzhiyuan/Projects/pytidb/.venv/lib/python3.12/site-packages (from pydantic<3.0.0,>=1.10.13->sqlmodel==0.0.22->pytidb-experimental==0.0.1.dev1) (4.12.2)\r\n",
      "Note: you may need to restart the kernel to use updated packages.\n"
     ]
    }
   ],
   "execution_count": 2
  },
  {
   "metadata": {},
   "cell_type": "markdown",
   "source": [
    "## Configuration\n",
    "\n",
    "- Go [tidbcloud.com](https://tidbcloud.com/) or using [tiup playground](https://docs.pingcap.com/tidb/stable/tiup-playground/) to create a free TiDB database cluster.\n",
    "- Go [OpenAI platform](https://platform.openai.com/api-keys) to create your API key.\n",
    "\n",
    "Configuration can be provided through environment variables, or using `.env`:"
   ],
   "id": "4236d29d1c721491"
  },
  {
   "metadata": {},
   "cell_type": "code",
   "outputs": [],
   "execution_count": null,
   "source": [
    "# Create .env file, then edit your .env, for example:\n",
    "# $ cat .env\n",
    "# TIDB_HOST=localhost\n",
    "# TIDB_PORT=4000\n",
    "# TIDB_USERNAME=root\n",
    "# TIDB_PASSWORD=\n",
    "# OPENAI_API_KEY='your_openai_api_key'\n",
    "#\n",
    "# Or you can use DATABASE_URL to connect to TiDB, for example:\n",
    "# $ cat .env\n",
    "# DATABASE_URL=mysql+pymysql://root:@localhost:4000/test\n",
    "#\n",
    "# If you are using TiDB Serverless, the DATABASE_URL should be like:\n",
    "# DATABASE_URL=mysql+pymysql://<USERNAME:<PASSWORD>@<HOST>:4000/test&ssl_verify_cert=true&ssl_verify_identity=true\n",
    "%cp .env.example .env"
   ],
   "id": "ff2912b32b018db8"
  },
  {
   "cell_type": "code",
   "id": "9c75d924557c8de7",
   "metadata": {
    "ExecuteTime": {
     "end_time": "2025-03-19T08:37:25.310135Z",
     "start_time": "2025-03-19T08:37:25.303586Z"
    }
   },
   "source": [
    "import dotenv\n",
    "\n",
    "dotenv.load_dotenv()"
   ],
   "outputs": [
    {
     "data": {
      "text/plain": [
       "True"
      ]
     },
     "execution_count": 4,
     "metadata": {},
     "output_type": "execute_result"
    }
   ],
   "execution_count": 4
  },
  {
   "cell_type": "markdown",
   "id": "22bfc51ebffcd51a",
   "metadata": {},
   "source": [
    "## Quickstart"
   ]
  },
  {
   "cell_type": "markdown",
   "id": "dc2df9bbafbf7080",
   "metadata": {},
   "source": [
    "### Connect to TiDB"
   ]
  },
  {
   "cell_type": "code",
   "id": "4995a54f311c4b1c",
   "metadata": {
    "ExecuteTime": {
     "end_time": "2025-03-19T08:37:36.412390Z",
     "start_time": "2025-03-19T08:37:35.984108Z"
    }
   },
   "source": [
    "import os\n",
    "from pytidb import TiDBClient\n",
    "\n",
    "db = TiDBClient.connect(\n",
    "    host=os.getenv(\"TIDB_HOST\"),\n",
    "    port=int(os.getenv(\"TIDB_PORT\")),\n",
    "    username=os.getenv(\"TIDB_USERNAME\"),\n",
    "    password=os.getenv(\"TIDB_PASSWORD\"),\n",
    "    database=os.getenv(\"TIDB_DATABASE\"),\n",
    ")\n",
    "\n",
    "# If you are using DATABASE_URL\n",
    "# db = TiDBClient.connect(database_url=os.getenv(\"DATABASE_URL\"))"
   ],
   "outputs": [],
   "execution_count": 5
  },
  {
   "cell_type": "markdown",
   "id": "efe66290f9e9df4b",
   "metadata": {},
   "source": [
    "### Create table"
   ]
  },
  {
   "cell_type": "code",
   "id": "9e3bec57603df4c5",
   "metadata": {
    "ExecuteTime": {
     "end_time": "2025-03-19T08:38:02.942964Z",
     "start_time": "2025-03-19T08:38:00.951139Z"
    }
   },
   "source": [
    "from typing import Optional, Any\n",
    "from pytidb.schema import TableModel, Field\n",
    "from pytidb.embeddings import EmbeddingFunction\n",
    "\n",
    "# Define your embedding model.\n",
    "text_embed = EmbeddingFunction(\"openai/text-embedding-3-small\")\n",
    "\n",
    "\n",
    "class Chunk(TableModel, table=True):\n",
    "    __tablename__ = \"chunks\"\n",
    "    __table_args__ = {\"extend_existing\": True}\n",
    "\n",
    "    id: int = Field(primary_key=True)\n",
    "    text: str = Field()\n",
    "    text_vec: Optional[Any] = text_embed.VectorField(\n",
    "        source_field=\"text\"\n",
    "    )  # 👈 Define the vector field.\n",
    "    user_id: int = Field()\n",
    "\n",
    "\n",
    "table = db.create_table(schema=Chunk)"
   ],
   "outputs": [],
   "execution_count": 6
  },
  {
   "cell_type": "markdown",
   "id": "3eab5d6eaaaaa868",
   "metadata": {},
   "source": [
    "### Insert Data\n",
    "\n",
    "🔢 Auto embedding: when you insert new data, the SDK automatically embeds the corpus for you."
   ]
  },
  {
   "cell_type": "code",
   "id": "fc742b2328df41f7",
   "metadata": {
    "ExecuteTime": {
     "end_time": "2025-03-19T08:38:09.469719Z",
     "start_time": "2025-03-19T08:38:04.968264Z"
    }
   },
   "source": [
    "table.truncate()\n",
    "table.insert(\n",
    "    Chunk(text=\"The quick brown fox jumps over the lazy dog\", user_id=1),\n",
    ")\n",
    "table.bulk_insert(\n",
    "    [\n",
    "        Chunk(text=\"A quick brown dog runs in the park\", user_id=2),\n",
    "        Chunk(text=\"The lazy fox sleeps under the tree\", user_id=2),\n",
    "        Chunk(text=\"A dog and a fox play in the park\", user_id=3),\n",
    "    ]\n",
    ")\n",
    "table.rows()"
   ],
   "outputs": [
    {
     "data": {
      "text/plain": [
       "4"
      ]
     },
     "execution_count": 7,
     "metadata": {},
     "output_type": "execute_result"
    }
   ],
   "execution_count": 7
  },
  {
   "cell_type": "markdown",
   "id": "c985564294102cd3",
   "metadata": {},
   "source": [
    "### Vector Search"
   ]
  },
  {
   "metadata": {
    "ExecuteTime": {
     "end_time": "2025-03-19T08:38:12.030485Z",
     "start_time": "2025-03-19T08:38:11.181350Z"
    }
   },
   "cell_type": "code",
   "source": [
    "res = (\n",
    "    table.search(\n",
    "        \"A quick fox in the park\"\n",
    "    )  # 👈 The query will be embedding automatically.\n",
    "    .filter({\"user_id\": 2})\n",
    "    .limit(2)\n",
    "    .to_pandas()\n",
    ")\n",
    "res"
   ],
   "id": "bb18652332f9338f",
   "outputs": [
    {
     "data": {
      "text/plain": [
       "   id                                text  \\\n",
       "0   2  A quick brown dog runs in the park   \n",
       "1   3  The lazy fox sleeps under the tree   \n",
       "\n",
       "                                            text_vec  user_id  _distance  \\\n",
       "0  [-0.041295435, -0.00933449, 0.012394777, -0.03...        2   0.334503   \n",
       "1  [-0.016046997, -0.0026827746, -0.01790061, -0....        2   0.445285   \n",
       "\n",
       "   similarity_score     score  \n",
       "0          0.665497  0.665497  \n",
       "1          0.554715  0.554715  "
      ],
      "text/html": [
       "<div>\n",
       "<style scoped>\n",
       "    .dataframe tbody tr th:only-of-type {\n",
       "        vertical-align: middle;\n",
       "    }\n",
       "\n",
       "    .dataframe tbody tr th {\n",
       "        vertical-align: top;\n",
       "    }\n",
       "\n",
       "    .dataframe thead th {\n",
       "        text-align: right;\n",
       "    }\n",
       "</style>\n",
       "<table border=\"1\" class=\"dataframe\">\n",
       "  <thead>\n",
       "    <tr style=\"text-align: right;\">\n",
       "      <th></th>\n",
       "      <th>id</th>\n",
       "      <th>text</th>\n",
       "      <th>text_vec</th>\n",
       "      <th>user_id</th>\n",
       "      <th>_distance</th>\n",
       "      <th>similarity_score</th>\n",
       "      <th>score</th>\n",
       "    </tr>\n",
       "  </thead>\n",
       "  <tbody>\n",
       "    <tr>\n",
       "      <th>0</th>\n",
       "      <td>2</td>\n",
       "      <td>A quick brown dog runs in the park</td>\n",
       "      <td>[-0.041295435, -0.00933449, 0.012394777, -0.03...</td>\n",
       "      <td>2</td>\n",
       "      <td>0.334503</td>\n",
       "      <td>0.665497</td>\n",
       "      <td>0.665497</td>\n",
       "    </tr>\n",
       "    <tr>\n",
       "      <th>1</th>\n",
       "      <td>3</td>\n",
       "      <td>The lazy fox sleeps under the tree</td>\n",
       "      <td>[-0.016046997, -0.0026827746, -0.01790061, -0....</td>\n",
       "      <td>2</td>\n",
       "      <td>0.445285</td>\n",
       "      <td>0.554715</td>\n",
       "      <td>0.554715</td>\n",
       "    </tr>\n",
       "  </tbody>\n",
       "</table>\n",
       "</div>"
      ]
     },
     "execution_count": 8,
     "metadata": {},
     "output_type": "execute_result"
    }
   ],
   "execution_count": 8
  },
  {
   "metadata": {},
   "cell_type": "markdown",
   "source": [
    "### Advanced Filtering\n",
    "\n",
    "TiDB Client supports various filter operators for flexible querying:\n",
    "\n",
    "| Operator | Description | Example |\n",
    "|----------|-------------|---------|\n",
    "| `$eq` | Equal to | `{\"field\": {\"$eq\": \"hello\"}}` |\n",
    "| `$gt` | Greater than | `{\"field\": {\"$gt\": 1}}` |\n",
    "| `$gte` | Greater than or equal | `{\"field\": {\"$gte\": 1}}` |\n",
    "| `$lt` | Less than | `{\"field\": {\"$lt\": 1}}` |\n",
    "| `$lte` | Less than or equal | `{\"field\": {\"$lte\": 1}}` |\n",
    "| `$in` | In array | `{\"field\": {\"$in\": [1, 2, 3]}}` |\n",
    "| `$nin` | Not in array | `{\"field\": {\"$nin\": [1, 2, 3]}}` |\n",
    "| `$and` | Logical AND | `{\"$and\": [{\"field1\": 1}, {\"field2\": 2}]}` |\n",
    "| `$or` | Logical OR | `{\"$or\": [{\"field1\": 1}, {\"field2\": 2}]}` |\n"
   ],
   "id": "9885104818a2d30b"
  },
  {
   "metadata": {
    "ExecuteTime": {
     "end_time": "2025-03-19T08:38:15.074610Z",
     "start_time": "2025-03-19T08:38:15.053064Z"
    }
   },
   "cell_type": "code",
   "source": [
    "chunks = table.query({\"user_id\": 1})\n",
    "[(c.id, c.text, c.user_id) for c in chunks]"
   ],
   "id": "5b9277c611a0c7f4",
   "outputs": [
    {
     "data": {
      "text/plain": [
       "[(1, 'The quick brown fox jumps over the lazy dog', 1)]"
      ]
     },
     "execution_count": 9,
     "metadata": {},
     "output_type": "execute_result"
    }
   ],
   "execution_count": 9
  },
  {
   "cell_type": "markdown",
   "id": "824bdb8530bf9f23",
   "metadata": {},
   "source": [
    "### Multiple Tables Join"
   ]
  },
  {
   "cell_type": "code",
   "id": "2125f53dd5ec80c9",
   "metadata": {
    "ExecuteTime": {
     "end_time": "2025-03-19T08:38:17.193503Z",
     "start_time": "2025-03-19T08:38:17.185828Z"
    }
   },
   "source": [
    "# Create a table to stored user data:\n",
    "class User(TableModel, table=True):\n",
    "    __tablename__ = \"users\"\n",
    "    __table_args__ = {\"extend_existing\": True}\n",
    "\n",
    "    id: int = Field(primary_key=True)\n",
    "    name: str = Field(max_length=20)\n",
    "\n",
    "\n",
    "user_table = db.create_table(schema=User)"
   ],
   "outputs": [],
   "execution_count": 10
  },
  {
   "cell_type": "code",
   "id": "54332bb413b12141",
   "metadata": {
    "ExecuteTime": {
     "end_time": "2025-03-19T08:38:19.673998Z",
     "start_time": "2025-03-19T08:38:19.624294Z"
    }
   },
   "source": [
    "user_table.truncate()\n",
    "user_table.insert(User(id=1, name=\"Alice\"))"
   ],
   "outputs": [
    {
     "data": {
      "text/plain": [
       "User(name='Alice', id=1)"
      ]
     },
     "execution_count": 11,
     "metadata": {},
     "output_type": "execute_result"
    }
   ],
   "execution_count": 11
  },
  {
   "cell_type": "code",
   "id": "b2ec4ea1bd64108c",
   "metadata": {
    "ExecuteTime": {
     "end_time": "2025-03-19T08:38:21.894537Z",
     "start_time": "2025-03-19T08:38:21.866062Z"
    }
   },
   "source": [
    "from sqlmodel import select, Session\n",
    "\n",
    "db_engine = db.db_engine\n",
    "with Session(db_engine) as db_session:\n",
    "    query = (\n",
    "        select(Chunk).join(User, Chunk.user_id == User.id).where(User.name == \"Alice\")\n",
    "    )\n",
    "    chunks = db_session.exec(query).all()\n",
    "\n",
    "[(c.id, c.text, c.user_id) for c in chunks]"
   ],
   "outputs": [
    {
     "data": {
      "text/plain": [
       "[(1, 'The quick brown fox jumps over the lazy dog', 1)]"
      ]
     },
     "execution_count": 12,
     "metadata": {},
     "output_type": "execute_result"
    }
   ],
   "execution_count": 12
  },
  {
   "cell_type": "markdown",
   "id": "8588f41c966af685",
   "metadata": {},
   "source": [
    "### Update Data"
   ]
  },
  {
   "cell_type": "code",
   "id": "9709eaa17f375cc4",
   "metadata": {
    "ExecuteTime": {
     "end_time": "2025-03-19T08:38:29.116021Z",
     "start_time": "2025-03-19T08:38:29.104840Z"
    }
   },
   "source": [
    "old_chunk = table.query({\"text\": \"A quick brown dog runs in the park\"})[0]\n",
    "chunk_id = old_chunk.id\n",
    "(old_chunk.text, old_chunk.text_vec)"
   ],
   "outputs": [
    {
     "data": {
      "text/plain": [
       "('A quick brown dog runs in the park',\n",
       " array([-0.04129544, -0.00933449,  0.01239478, ..., -0.00586248,\n",
       "        -0.00735575,  0.01386347], dtype=float32))"
      ]
     },
     "execution_count": 13,
     "metadata": {},
     "output_type": "execute_result"
    }
   ],
   "execution_count": 13
  },
  {
   "cell_type": "code",
   "id": "2f60ed130e223985",
   "metadata": {
    "ExecuteTime": {
     "end_time": "2025-03-19T08:38:37.024540Z",
     "start_time": "2025-03-19T08:38:31.148734Z"
    }
   },
   "source": [
    "table.update(\n",
    "    values={\n",
    "        \"text\": \"foo\"  # 👈 Only provide the fields you want to update.\n",
    "    },\n",
    "    filters={\"id\": chunk_id},\n",
    ")"
   ],
   "outputs": [],
   "execution_count": 14
  },
  {
   "cell_type": "code",
   "id": "99208275",
   "metadata": {
    "ExecuteTime": {
     "end_time": "2025-03-19T08:38:38.932715Z",
     "start_time": "2025-03-19T08:38:38.926596Z"
    }
   },
   "source": [
    "new_chunk = table.get(chunk_id)\n",
    "(new_chunk.text, new_chunk.text_vec)  # 👈 The vector field is updated automatically."
   ],
   "outputs": [
    {
     "data": {
      "text/plain": [
       "('foo',\n",
       " array([-0.00584315, -0.01308979, -0.01457085, ..., -0.00904154,\n",
       "        -0.00738416, -0.01885888], dtype=float32))"
      ]
     },
     "execution_count": 15,
     "metadata": {},
     "output_type": "execute_result"
    }
   ],
   "execution_count": 15
  },
  {
   "cell_type": "markdown",
   "id": "414e362b",
   "metadata": {},
   "source": [
    "### Delete Data"
   ]
  },
  {
   "cell_type": "code",
   "id": "d1c01776adcf166b",
   "metadata": {
    "ExecuteTime": {
     "end_time": "2025-03-19T08:38:40.973589Z",
     "start_time": "2025-03-19T08:38:40.963203Z"
    }
   },
   "source": [
    "table.rows()"
   ],
   "outputs": [
    {
     "data": {
      "text/plain": [
       "4"
      ]
     },
     "execution_count": 16,
     "metadata": {},
     "output_type": "execute_result"
    }
   ],
   "execution_count": 16
  },
  {
   "cell_type": "code",
   "id": "ebc3854b4428bda6",
   "metadata": {
    "ExecuteTime": {
     "end_time": "2025-03-19T08:38:42.645882Z",
     "start_time": "2025-03-19T08:38:42.626568Z"
    }
   },
   "source": [
    "table.delete(filters={\"user_id\": 2})"
   ],
   "outputs": [],
   "execution_count": 17
  },
  {
   "cell_type": "code",
   "id": "27c539b8f693991",
   "metadata": {
    "ExecuteTime": {
     "end_time": "2025-03-19T08:38:44.623332Z",
     "start_time": "2025-03-19T08:38:44.614312Z"
    }
   },
   "source": [
    "table.rows()"
   ],
   "outputs": [
    {
     "data": {
      "text/plain": [
       "2"
      ]
     },
     "execution_count": 18,
     "metadata": {},
     "output_type": "execute_result"
    }
   ],
   "execution_count": 18
  },
  {
   "cell_type": "markdown",
   "id": "e31dadb5fc1ce970",
   "metadata": {},
   "source": [
    "### Execute raw SQL\n",
    "\n",
    "- Using `execute()` to execute INSERT / UPDATE / DELETE statement.\n",
    "- Using `query()` to execute SELECT / SHOW statement."
   ]
  },
  {
   "cell_type": "markdown",
   "id": "af4e09aba41bf12b",
   "metadata": {},
   "source": "#### Execute SQL"
  },
  {
   "cell_type": "markdown",
   "id": "c0be2cb573fa5ce7",
   "metadata": {},
   "source": "The `execute()` method will return a `SQLExecuteResult` instance."
  },
  {
   "cell_type": "code",
   "id": "f4816866cdbbbcfa",
   "metadata": {
    "ExecuteTime": {
     "end_time": "2025-03-19T08:38:46.654015Z",
     "start_time": "2025-03-19T08:38:46.648569Z"
    }
   },
   "source": [
    "db.execute(\"INSERT INTO chunks(text, user_id) VALUES ('inserted from raw sql', 5)\")"
   ],
   "outputs": [
    {
     "data": {
      "text/plain": [
       "SQLExecuteResult(rowcount=1, success=True, message=None)"
      ]
     },
     "execution_count": 19,
     "metadata": {},
     "output_type": "execute_result"
    }
   ],
   "execution_count": 19
  },
  {
   "cell_type": "markdown",
   "id": "9ce8553c7bcb2dbe",
   "metadata": {},
   "source": "Both of the `execute` and `query` methods are support the **Parameterized SQL** feature, which help you avoid [SQL injection](https://en.wikipedia.org/wiki/SQL_injection) while using the dynamic SQL feature."
  },
  {
   "cell_type": "code",
   "id": "eae7fedce0fc6ffc",
   "metadata": {
    "ExecuteTime": {
     "end_time": "2025-03-19T08:38:48.863872Z",
     "start_time": "2025-03-19T08:38:48.858820Z"
    }
   },
   "source": [
    "db.execute(\n",
    "    \"INSERT INTO chunks(text, user_id) VALUES (:text, :user_id)\",\n",
    "    {\"text\": \"inserted from dynamic sql\", \"user_id\": 6},\n",
    ")"
   ],
   "outputs": [
    {
     "data": {
      "text/plain": [
       "SQLExecuteResult(rowcount=1, success=True, message=None)"
      ]
     },
     "execution_count": 20,
     "metadata": {},
     "output_type": "execute_result"
    }
   ],
   "execution_count": 20
  },
  {
   "cell_type": "markdown",
   "id": "30d59b176cd97a70",
   "metadata": {},
   "source": "#### Query SQL"
  },
  {
   "cell_type": "markdown",
   "id": "31113270bb30267e",
   "metadata": {},
   "source": [
    "The `query()` method will return a `SQLQueryResult` instance with some helper methods:\n",
    "\n",
    "- `to_pandas()`\n",
    "- `to_list()`\n",
    "- `to_rows()`\n",
    "- `scalar()`\n",
    "\n",
    "The `to_pandas()` method to convert the query result to a `pandas.DataFrame`, which is displayed as human-friendly style on the notebook:"
   ]
  },
  {
   "cell_type": "code",
   "id": "564ebe8e3b8fbee",
   "metadata": {
    "ExecuteTime": {
     "end_time": "2025-03-19T08:38:51.576792Z",
     "start_time": "2025-03-19T08:38:51.545395Z"
    }
   },
   "source": [
    "db.query(\"SELECT id, text, user_id FROM chunks\").to_pandas()"
   ],
   "outputs": [
    {
     "data": {
      "text/plain": [
       "   id                                         text  user_id\n",
       "0   5                        inserted from raw sql        5\n",
       "1   6                    inserted from dynamic sql        6\n",
       "2   1  The quick brown fox jumps over the lazy dog        1\n",
       "3   4             A dog and a fox play in the park        3"
      ],
      "text/html": [
       "<div>\n",
       "<style scoped>\n",
       "    .dataframe tbody tr th:only-of-type {\n",
       "        vertical-align: middle;\n",
       "    }\n",
       "\n",
       "    .dataframe tbody tr th {\n",
       "        vertical-align: top;\n",
       "    }\n",
       "\n",
       "    .dataframe thead th {\n",
       "        text-align: right;\n",
       "    }\n",
       "</style>\n",
       "<table border=\"1\" class=\"dataframe\">\n",
       "  <thead>\n",
       "    <tr style=\"text-align: right;\">\n",
       "      <th></th>\n",
       "      <th>id</th>\n",
       "      <th>text</th>\n",
       "      <th>user_id</th>\n",
       "    </tr>\n",
       "  </thead>\n",
       "  <tbody>\n",
       "    <tr>\n",
       "      <th>0</th>\n",
       "      <td>5</td>\n",
       "      <td>inserted from raw sql</td>\n",
       "      <td>5</td>\n",
       "    </tr>\n",
       "    <tr>\n",
       "      <th>1</th>\n",
       "      <td>6</td>\n",
       "      <td>inserted from dynamic sql</td>\n",
       "      <td>6</td>\n",
       "    </tr>\n",
       "    <tr>\n",
       "      <th>2</th>\n",
       "      <td>1</td>\n",
       "      <td>The quick brown fox jumps over the lazy dog</td>\n",
       "      <td>1</td>\n",
       "    </tr>\n",
       "    <tr>\n",
       "      <th>3</th>\n",
       "      <td>4</td>\n",
       "      <td>A dog and a fox play in the park</td>\n",
       "      <td>3</td>\n",
       "    </tr>\n",
       "  </tbody>\n",
       "</table>\n",
       "</div>"
      ]
     },
     "execution_count": 21,
     "metadata": {},
     "output_type": "execute_result"
    }
   ],
   "execution_count": 21
  },
  {
   "cell_type": "markdown",
   "id": "d2abab55038d069b",
   "metadata": {},
   "source": "The `to_list()` method will convert the query result into a list of dict."
  },
  {
   "cell_type": "code",
   "id": "97991aed7bd13987",
   "metadata": {
    "ExecuteTime": {
     "end_time": "2025-03-19T08:38:54.955150Z",
     "start_time": "2025-03-19T08:38:54.947570Z"
    }
   },
   "source": [
    "db.query(\n",
    "    \"SELECT id, text, user_id FROM chunks WHERE user_id = :user_id\", {\"user_id\": 3}\n",
    ").to_list()"
   ],
   "outputs": [
    {
     "data": {
      "text/plain": [
       "[{'id': 4, 'text': 'A dog and a fox play in the park', 'user_id': 3}]"
      ]
     },
     "execution_count": 22,
     "metadata": {},
     "output_type": "execute_result"
    }
   ],
   "execution_count": 22
  },
  {
   "cell_type": "markdown",
   "id": "7238c2a0fca418bb",
   "metadata": {},
   "source": "The `to_rows` method will return a list of tuple, every tuple represent of one row of data."
  },
  {
   "cell_type": "code",
   "id": "54514f65c6f769e1",
   "metadata": {
    "ExecuteTime": {
     "end_time": "2025-03-19T08:38:57.000996Z",
     "start_time": "2025-03-19T08:38:56.993152Z"
    }
   },
   "source": [
    "db.query(\"SHOW DATABASES;\").to_rows()"
   ],
   "outputs": [
    {
     "data": {
      "text/plain": [
       "[('INFORMATION_SCHEMA',),\n",
       " ('METRICS_SCHEMA',),\n",
       " ('PERFORMANCE_SCHEMA',),\n",
       " ('mysql',),\n",
       " ('sys',),\n",
       " ('test',)]"
      ]
     },
     "execution_count": 23,
     "metadata": {},
     "output_type": "execute_result"
    }
   ],
   "execution_count": 23
  },
  {
   "cell_type": "code",
   "id": "b2f3113a0ea9bb1b",
   "metadata": {
    "ExecuteTime": {
     "end_time": "2025-03-19T08:38:58.931782Z",
     "start_time": "2025-03-19T08:38:58.921319Z"
    }
   },
   "source": [
    "db.query(\"SELECT COUNT(*) FROM chunks;\").scalar()"
   ],
   "outputs": [
    {
     "data": {
      "text/plain": [
       "4"
      ]
     },
     "execution_count": 24,
     "metadata": {},
     "output_type": "execute_result"
    }
   ],
   "execution_count": 24
  },
  {
   "cell_type": "markdown",
   "id": "882d642830bd0f11",
   "metadata": {},
   "source": "### Table Management"
  },
  {
   "cell_type": "markdown",
   "id": "7453dac3a51e0481",
   "metadata": {},
   "source": "#### List tables"
  },
  {
   "cell_type": "code",
   "id": "8523e1eb22bee8db",
   "metadata": {
    "ExecuteTime": {
     "end_time": "2025-03-19T08:39:00.852851Z",
     "start_time": "2025-03-19T08:39:00.840146Z"
    }
   },
   "source": [
    "db.table_names()"
   ],
   "outputs": [
    {
     "data": {
      "text/plain": [
       "['chunks',\n",
       " 'chunks_438476e0-74f2-480f-b220-573e3f663d52',\n",
       " 'chunks_655b6cf3-8b30-4839-ba8b-5ed3c502f30e',\n",
       " 'documents',\n",
       " 'entities_438476e0-74f2-480f-b220-573e3f663d52',\n",
       " 'entities_655b6cf3-8b30-4839-ba8b-5ed3c502f30e',\n",
       " 'relationships_438476e0-74f2-480f-b220-573e3f663d52',\n",
       " 'relationships_655b6cf3-8b30-4839-ba8b-5ed3c502f30e',\n",
       " 'test_auto_embedding',\n",
       " 'test_auto_embedding2',\n",
       " 'test_get_data',\n",
       " 'test_raw_sql',\n",
       " 'test_vector_search',\n",
       " 'users']"
      ]
     },
     "execution_count": 25,
     "metadata": {},
     "output_type": "execute_result"
    }
   ],
   "execution_count": 25
  },
  {
   "cell_type": "markdown",
   "id": "1bb3f62740e78595",
   "metadata": {},
   "source": [
    "#### Truncate table\n",
    "\n",
    "Clear all data in the table:"
   ]
  },
  {
   "cell_type": "code",
   "id": "c33600be01633b4e",
   "metadata": {
    "ExecuteTime": {
     "end_time": "2025-03-19T08:39:03.760299Z",
     "start_time": "2025-03-19T08:39:03.693531Z"
    }
   },
   "source": [
    "table.truncate()\n",
    "table.rows()"
   ],
   "outputs": [
    {
     "data": {
      "text/plain": [
       "0"
      ]
     },
     "execution_count": 26,
     "metadata": {},
     "output_type": "execute_result"
    }
   ],
   "execution_count": 26
  },
  {
   "cell_type": "markdown",
   "id": "761680f7ea056b10",
   "metadata": {},
   "source": "#### Drop table\n"
  },
  {
   "cell_type": "code",
   "id": "56317418ca9cbbe4",
   "metadata": {
    "ExecuteTime": {
     "end_time": "2025-03-19T08:39:05.655826Z",
     "start_time": "2025-03-19T08:39:05.572930Z"
    }
   },
   "source": [
    "db.drop_table(\"chunks\")"
   ],
   "outputs": [
    {
     "data": {
      "text/plain": [
       "SQLExecuteResult(rowcount=0, success=True, message=None)"
      ]
     },
     "execution_count": 27,
     "metadata": {},
     "output_type": "execute_result"
    }
   ],
   "execution_count": 27
  }
 ],
 "metadata": {
  "kernelspec": {
   "display_name": ".venv",
   "language": "python",
   "name": "python3"
  },
  "language_info": {
   "codemirror_mode": {
    "name": "ipython",
    "version": 3
   },
   "file_extension": ".py",
   "mimetype": "text/x-python",
   "name": "python",
   "nbconvert_exporter": "python",
   "pygments_lexer": "ipython3",
   "version": "3.11.8"
  }
 },
 "nbformat": 4,
 "nbformat_minor": 5
}
